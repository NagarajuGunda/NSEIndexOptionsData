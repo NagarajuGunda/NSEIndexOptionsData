{
 "cells": [
  {
   "cell_type": "code",
   "execution_count": null,
   "metadata": {},
   "outputs": [],
   "source": [
    "import pandas as pd\n",
    "import datetime\n",
    "import re\n",
    "import pyalgomate.utils as utils\n",
    "from pyalgomate.utils.expiry import UnderlyingIndex\n",
    "import os, zipfile, glob"
   ]
  },
  {
   "cell_type": "code",
   "execution_count": null,
   "metadata": {},
   "outputs": [],
   "source": [
    "def getTicker(symbol):\n",
    "    m = re.match(r\"([A-Z\\:]+)(\\d{2})([A-Z]{3})(\\d+)([CP])E\", symbol)\n",
    "\n",
    "    if m is not None:\n",
    "        month = datetime.datetime.strptime(m.group(3), '%b').month\n",
    "        year = int(m.group(2)) + 2000\n",
    "        symbol = m.group(1)\n",
    "\n",
    "        if symbol == 'BANKNIFTY':\n",
    "            underlyingIndex = UnderlyingIndex.BANKNIFTY\n",
    "        elif symbol == 'NIFTY':\n",
    "            underlyingIndex = UnderlyingIndex.NIFTY\n",
    "        elif symbol == 'FINNIFTY':\n",
    "            underlyingIndex = UnderlyingIndex.FINNIFTY\n",
    "\n",
    "        expiry = utils.getNearestMonthlyExpiryDate(\n",
    "            datetime.date(year, month, 1), underlyingIndex)\n",
    "        \n",
    "        return f'{m.group(1)}{expiry.strftime(\"%d%b%y\")}{m.group(5)}{int(m.group(4))}'.upper()\n",
    "\n",
    "    m = re.match(r\"([A-Z\\:]+)(\\d{2})(\\d|[OND])(\\d{2})(\\d+)([CP])E\", symbol)\n",
    "\n",
    "    if m is None:\n",
    "        return symbol\n",
    "\n",
    "    day = int(m.group(4))\n",
    "    month = m.group(3)\n",
    "    if month == 'O':\n",
    "        month = 10\n",
    "    elif month == 'N':\n",
    "        month = 11\n",
    "    elif month == 'D':\n",
    "        month = 12\n",
    "    else:\n",
    "        month = int(month)\n",
    "\n",
    "    year = int(m.group(2)) + 2000\n",
    "    expiry = datetime.date(year, month, day)\n",
    "\n",
    "    return f'{m.group(1)}{expiry.strftime(\"%d%b%y\")}{m.group(6)}{int(m.group(5))}'.upper()"
   ]
  },
  {
   "cell_type": "code",
   "execution_count": null,
   "metadata": {},
   "outputs": [],
   "source": [
    "dirName = \"../PyAlgoMate-Strategies/data/temp/\""
   ]
  },
  {
   "cell_type": "code",
   "execution_count": null,
   "metadata": {},
   "outputs": [],
   "source": [
    "for filename in glob.iglob(f'{dirName}/**/*.zip', recursive=True):\n",
    "    print(filename)\n",
    "    zip_ref = zipfile.ZipFile(filename) # create zipfile object\n",
    "    zip_ref.extractall(os.path.dirname(filename)) # extract file to dir\n",
    "    zip_ref.close() # close file\n",
    "    os.remove(filename) # delete zipped file"
   ]
  },
  {
   "cell_type": "code",
   "execution_count": null,
   "metadata": {},
   "outputs": [],
   "source": [
    "columns = ['Ticker', 'Date/Time', 'Open', 'High', 'Low', 'Close', 'Volume', 'Open Interest']\n",
    "finalDf = pd.DataFrame(columns=columns)\n",
    "\n",
    "for file in glob.glob(f'{dirName}/**/*.parquet', recursive=True):\n",
    "    print(file)\n",
    "    df = pd.read_parquet(file)\n",
    "    df['Date'] = pd.to_datetime(df['Date'], format='%Y-%m-%dT%H:%M:%S%z').dt.tz_localize(None)\n",
    "    df['Symbol'] = df['Symbol'].apply(getTicker)\n",
    "    df = df.rename(columns={\n",
    "        'Symbol': 'Ticker',\n",
    "        'Date': 'Date/Time'\n",
    "    })\n",
    "    df['Ticker'] = df['Ticker'].astype(str)\n",
    "    df['Date/Time'] = pd.to_datetime(df['Date/Time']).dt.tz_localize(None)\n",
    "    df['Open'] = df['Open'].astype(float)\n",
    "    df['High'] = df['High'].astype(float)\n",
    "    df['Low'] = df['Low'].astype(float)\n",
    "    df['Close'] = df['Close'].astype(float)\n",
    "    df['Volume'] = df['Volume'].astype(float)\n",
    "    df['Open Interest'] = df['Open Interest'].astype(float)\n",
    "\n",
    "    finalDf = pd.concat([finalDf, df], ignore_index=True)\n",
    "    os.remove(file)"
   ]
  },
  {
   "cell_type": "code",
   "execution_count": null,
   "metadata": {},
   "outputs": [],
   "source": [
    "finalDf = finalDf.sort_values(['Ticker', 'Date/Time']).drop_duplicates(subset=['Ticker', 'Date/Time'], keep='first')"
   ]
  },
  {
   "cell_type": "code",
   "execution_count": null,
   "metadata": {},
   "outputs": [],
   "source": [
    "finalDf[finalDf.Ticker.str.startswith('BANKNIFTY')].to_parquet('../PyAlgoMate-Strategies/data/2023/banknifty/08.parquet')"
   ]
  },
  {
   "cell_type": "code",
   "execution_count": null,
   "metadata": {},
   "outputs": [],
   "source": [
    "finalDf[finalDf.Ticker.str.startswith('NIFTY')].to_parquet('../PyAlgoMate-Strategies/data/2023/nifty/08.parquet')"
   ]
  },
  {
   "cell_type": "markdown",
   "metadata": {},
   "source": [
    "## Spot"
   ]
  },
  {
   "cell_type": "code",
   "execution_count": null,
   "metadata": {},
   "outputs": [],
   "source": [
    "dirName = \"../PyAlgoMate-Strategies/data/temp/\"\n",
    "\n",
    "for filename in glob.iglob(f'{dirName}/**/*.zip', recursive=True):\n",
    "    print(filename)\n",
    "    zip_ref = zipfile.ZipFile(filename) # create zipfile object\n",
    "    zip_ref.extractall(os.path.dirname(filename)) # extract file to dir\n",
    "    zip_ref.close() # close file\n",
    "    os.remove(filename) # delete zipped file"
   ]
  },
  {
   "cell_type": "code",
   "execution_count": null,
   "metadata": {},
   "outputs": [],
   "source": [
    "columns = ['Ticker', 'Date/Time', 'Open', 'High', 'Low', 'Close', 'Volume', 'Open Interest']\n",
    "\n",
    "finalDf = pd.DataFrame(columns=columns)\n",
    "for file in glob.glob(f'{dirName}/**/*.csv', recursive=True):\n",
    "    print(file)\n",
    "    df = pd.read_csv(file, header=None, names=columns)\n",
    "    df['Date/Time'] = pd.to_datetime(df['Date/Time'], format='%Y-%m-%dT%H:%M:%S%z').dt.tz_localize(None)\n",
    "    df['Ticker'] = df['Ticker'].astype(str)\n",
    "    df['Date/Time'] = pd.to_datetime(df['Date/Time']).dt.tz_localize(None)\n",
    "    df['Open'] = df['Open'].astype(float)\n",
    "    df['High'] = df['High'].astype(float)\n",
    "    df['Low'] = df['Low'].astype(float)\n",
    "    df['Close'] = df['Close'].astype(float)\n",
    "    df['Volume'] = df['Volume'].astype(float)\n",
    "    df['Open Interest'] = df['Open Interest'].astype(float)\n",
    "\n",
    "    df = df[(df['Ticker'] == 'NIFTY 50') | (df['Ticker'] == 'NIFTY BANK') | (df['Ticker'] == 'NIFTY FIN SERVICE')]\n",
    "    df.Ticker = df.Ticker.str.replace('NIFTY BANK', 'BANKNIFTY').replace('NIFTY 50', 'NIFTY').replace('NIFTY FIN SERVICE', 'FINNIFTY')\n",
    "\n",
    "    finalDf = pd.concat([finalDf, df], ignore_index=True)\n",
    "    os.remove(file)"
   ]
  },
  {
   "cell_type": "code",
   "execution_count": null,
   "metadata": {},
   "outputs": [],
   "source": [
    "finalDf.to_parquet('../PyAlgoMate-Strategies/data/2023/spot.parquet')"
   ]
  },
  {
   "cell_type": "markdown",
   "metadata": {},
   "source": [
    "## Merge"
   ]
  },
  {
   "cell_type": "code",
   "execution_count": null,
   "metadata": {},
   "outputs": [],
   "source": [
    "spot = pd.read_parquet('../PyAlgoMate-Strategies/data/2023/spot.parquet')\n",
    "nifty = pd.read_parquet('../PyAlgoMate-Strategies/data/2023/nifty/08.parquet')\n",
    "finnifty = pd.read_parquet('../PyAlgoMate-Strategies/data/2023/finnifty/08.parquet')\n",
    "banknifty = pd.read_parquet('../PyAlgoMate-Strategies/data/2023/banknifty/08.parquet')"
   ]
  },
  {
   "cell_type": "code",
   "execution_count": null,
   "metadata": {},
   "outputs": [],
   "source": [
    "pd.concat([nifty, spot[spot.Ticker == 'NIFTY']], ignore_index=True).sort_values(\n",
    "    ['Ticker', 'Date/Time']).drop_duplicates(\n",
    "        subset=['Ticker', 'Date/Time'], keep='first').to_parquet('../PyAlgoMate-Strategies/data/2023/nifty/08.parquet')"
   ]
  },
  {
   "cell_type": "code",
   "execution_count": null,
   "metadata": {},
   "outputs": [],
   "source": [
    "pd.concat([nifty, spot[spot.Ticker == 'FINNIFTY']], ignore_index=True).sort_values(\n",
    "    ['Ticker', 'Date/Time']).drop_duplicates(\n",
    "        subset=['Ticker', 'Date/Time'], keep='first').to_parquet('../PyAlgoMate-Strategies/data/2023/finnifty/08.parquet')"
   ]
  },
  {
   "cell_type": "code",
   "execution_count": null,
   "metadata": {},
   "outputs": [],
   "source": [
    "pd.concat([banknifty, spot[spot.Ticker == 'BANKNIFTY']], ignore_index=True).sort_values(\n",
    "    ['Ticker', 'Date/Time']).drop_duplicates(\n",
    "        subset=['Ticker', 'Date/Time'], keep='first').to_parquet('../PyAlgoMate-Strategies/data/2023/banknifty/08.parquet')"
   ]
  },
  {
   "cell_type": "code",
   "execution_count": null,
   "metadata": {},
   "outputs": [],
   "source": [
    "pd.read_parquet('../PyAlgoMate-Strategies/data/2023/nifty/08.parquet').head()"
   ]
  },
  {
   "cell_type": "code",
   "execution_count": null,
   "metadata": {},
   "outputs": [],
   "source": []
  }
 ],
 "metadata": {
  "kernelspec": {
   "display_name": ".venv",
   "language": "python",
   "name": "python3"
  },
  "language_info": {
   "codemirror_mode": {
    "name": "ipython",
    "version": 3
   },
   "file_extension": ".py",
   "mimetype": "text/x-python",
   "name": "python",
   "nbconvert_exporter": "python",
   "pygments_lexer": "ipython3",
   "version": "3.8.10"
  },
  "orig_nbformat": 4
 },
 "nbformat": 4,
 "nbformat_minor": 2
}
